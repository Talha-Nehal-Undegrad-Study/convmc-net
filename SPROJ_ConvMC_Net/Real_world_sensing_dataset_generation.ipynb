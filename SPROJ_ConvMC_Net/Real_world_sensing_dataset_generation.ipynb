{
 "cells": [
  {
   "cell_type": "code",
   "execution_count": 1,
   "metadata": {
    "colab": {
     "base_uri": "https://localhost:8080/"
    },
    "executionInfo": {
     "elapsed": 19271,
     "status": "ok",
     "timestamp": 1692307985079,
     "user": {
      "displayName": "Talha Ahmed",
      "userId": "17372384323512083426"
     },
     "user_tz": -300
    },
    "id": "QkewbYGcurVf",
    "outputId": "22a9918e-b4dc-4047-e746-75289a51e986"
   },
   "outputs": [],
   "source": [
    "# Import Neccessary Libraries\n",
    "import numpy as np\n",
    "import pandas as pd\n",
    "from pathlib import Path\n",
    "import os\n",
    "import shutil\n",
    "\n",
    "# # Mount Drive\n",
    "# from google.colab import drive\n",
    "# drive.mount('/content/drive')"
   ]
  },
  {
   "cell_type": "code",
   "execution_count": 2,
   "metadata": {
    "colab": {
     "base_uri": "https://localhost:8080/",
     "height": 206
    },
    "executionInfo": {
     "elapsed": 3011,
     "status": "ok",
     "timestamp": 1692308647354,
     "user": {
      "displayName": "Talha Ahmed",
      "userId": "17372384323512083426"
     },
     "user_tz": -300
    },
    "id": "QLUMzrOkXJ2M",
    "outputId": "8a858fcb-1b8e-4ad6-e306-83a340cca997"
   },
   "outputs": [
    {
     "data": {
      "text/html": [
       "<div>\n",
       "<style scoped>\n",
       "    .dataframe tbody tr th:only-of-type {\n",
       "        vertical-align: middle;\n",
       "    }\n",
       "\n",
       "    .dataframe tbody tr th {\n",
       "        vertical-align: top;\n",
       "    }\n",
       "\n",
       "    .dataframe thead th {\n",
       "        text-align: right;\n",
       "    }\n",
       "</style>\n",
       "<table border=\"1\" class=\"dataframe\">\n",
       "  <thead>\n",
       "    <tr style=\"text-align: right;\">\n",
       "      <th></th>\n",
       "      <th>date:yyyy-mm-dd</th>\n",
       "      <th>time:hh:mm:ss.xxx</th>\n",
       "      <th>epoch:int</th>\n",
       "      <th>moteid:int</th>\n",
       "      <th>temperature:real</th>\n",
       "    </tr>\n",
       "  </thead>\n",
       "  <tbody>\n",
       "    <tr>\n",
       "      <th>1</th>\n",
       "      <td>2004-02-28</td>\n",
       "      <td>00:59:16.02785</td>\n",
       "      <td>3</td>\n",
       "      <td>1.0</td>\n",
       "      <td>19.9884</td>\n",
       "    </tr>\n",
       "    <tr>\n",
       "      <th>2</th>\n",
       "      <td>2004-02-28</td>\n",
       "      <td>01:03:16.33393</td>\n",
       "      <td>11</td>\n",
       "      <td>1.0</td>\n",
       "      <td>19.3024</td>\n",
       "    </tr>\n",
       "    <tr>\n",
       "      <th>3</th>\n",
       "      <td>2004-02-28</td>\n",
       "      <td>01:06:16.013453</td>\n",
       "      <td>17</td>\n",
       "      <td>1.0</td>\n",
       "      <td>19.1652</td>\n",
       "    </tr>\n",
       "    <tr>\n",
       "      <th>4</th>\n",
       "      <td>2004-02-28</td>\n",
       "      <td>01:06:46.778088</td>\n",
       "      <td>18</td>\n",
       "      <td>1.0</td>\n",
       "      <td>19.1750</td>\n",
       "    </tr>\n",
       "    <tr>\n",
       "      <th>5</th>\n",
       "      <td>2004-02-28</td>\n",
       "      <td>01:08:45.992524</td>\n",
       "      <td>22</td>\n",
       "      <td>1.0</td>\n",
       "      <td>19.1456</td>\n",
       "    </tr>\n",
       "  </tbody>\n",
       "</table>\n",
       "</div>"
      ],
      "text/plain": [
       "  date:yyyy-mm-dd time:hh:mm:ss.xxx  epoch:int  moteid:int  temperature:real\n",
       "1      2004-02-28    00:59:16.02785          3         1.0           19.9884\n",
       "2      2004-02-28    01:03:16.33393         11         1.0           19.3024\n",
       "3      2004-02-28   01:06:16.013453         17         1.0           19.1652\n",
       "4      2004-02-28   01:06:46.778088         18         1.0           19.1750\n",
       "5      2004-02-28   01:08:45.992524         22         1.0           19.1456"
      ]
     },
     "execution_count": 2,
     "metadata": {},
     "output_type": "execute_result"
    }
   ],
   "source": [
    "# Import both halfs of data from txt file as csv file, and merge them if you are using the parts\n",
    "# data_first_half = pd.read_csv('/content/drive/MyDrive/DUPA - RCPA/Technology transfer deep unfolding/SPROJ-ConvMC-Net/Sensor Data/data_first_half.txt', sep  =  \" \", header = None)\n",
    "# data_second_half = pd.read_csv('/content/drive/MyDrive/DUPA - RCPA/Technology transfer deep unfolding/SPROJ-ConvMC-Net/Sensor Data/data_second_half.txt', sep  =  \" \", header = None)\n",
    "# data = pd.concat([data_first_half, data_second_half], axis = 0).iloc[1:, :]\n",
    "\n",
    "data = pd.read_csv('/home/gcf/Desktop/Talha_Nehal Sproj/Tahir Sproj Stuff/SPROJ_ConvMC_Net/data.txt', sep  =  \" \", header = None)\n",
    "\n",
    "# Appropriately rename columns\n",
    "data.columns = [\"date:yyyy-mm-dd\", \"time:hh:mm:ss.xxx\", \"epoch:int\", \"moteid:int\", \"temperature:real\", \"humidity:real\", \"light:real\", \"voltage:real\" ]\n",
    "# Drop columns that are not needed\n",
    "data = data.drop(columns = [\"humidity:real\", \"light:real\", \"voltage:real\"])\n",
    "# Remove first row\n",
    "data = data.iloc[1: , :]\n",
    "# Remove observations with missing temperature values\n",
    "data = data.dropna(subset = ['temperature:real'])\n",
    "\n",
    "data.head()\n",
    "\n",
    "# For more information for the dataset visit: https://www.kaggle.com/datasets/divyansh22/intel-berkeley-research-lab-sensor-data?resource=download"
   ]
  },
  {
   "cell_type": "code",
   "execution_count": 3,
   "metadata": {
    "executionInfo": {
     "elapsed": 7,
     "status": "ok",
     "timestamp": 1692308067691,
     "user": {
      "displayName": "Talha Ahmed",
      "userId": "17372384323512083426"
     },
     "user_tz": -300
    },
    "id": "JsntSxLgaVaT"
   },
   "outputs": [],
   "source": [
    "# General Information Regarding dataset\n",
    "# This file includes a log of about 2.3 million readings collected from the 54 sensors installed in the lab. There are 8 columns in this txt file which could be converted to a CSV file with ease.\n",
    "# The columns included are date:yyyy-mm-dd, time:hh:mm:ss.xxx, epoch:int, moteid:int, temperature:real, humidity:real, light:real, voltage:real.\n",
    "# Epoch is a monotonically increasing sequence number from each mote. Two readings from the same epoch number were produced from different motes at the same time.\n",
    "# There are some missing epochs in this data set. Moteids range from 1-54; data from some motes may be missing or truncated.\n",
    "# Temperature is in degrees Celsius. Humidity is temperature corrected relative humidity, ranging from 0-100%.\n",
    "# Light is in Lux (a value of 1 Lux corresponds to moonlight, 400 Lux to a bright office, and 100,000 Lux to full sunlight.)\n",
    "# Voltage is expressed in volts, ranging from 2-3; the batteries, in this case, were lithium-ion cells that maintain a fairly constant voltage over their lifetime\n",
    "# Note that variations in voltage are highly correlated with temperature."
   ]
  },
  {
   "cell_type": "code",
   "execution_count": 4,
   "metadata": {
    "colab": {
     "base_uri": "https://localhost:8080/"
    },
    "executionInfo": {
     "elapsed": 436,
     "status": "ok",
     "timestamp": 1692308649130,
     "user": {
      "displayName": "Talha Ahmed",
      "userId": "17372384323512083426"
     },
     "user_tz": -300
    },
    "id": "n6sraC1RJ7Zo",
    "outputId": "c9c2c418-a6c0-48d4-befe-d703a022f360"
   },
   "outputs": [
    {
     "name": "stdout",
     "output_type": "stream",
     "text": [
      "len(lst) 49\n"
     ]
    }
   ],
   "source": [
    "# Getting the data for each sensor from 1 to 55 (excluding 5, 50, 15, 8 and 12 - ask shoaib bhai why?) and storing it as a list which containing 49 indexes. Data at each index will have their index reset\n",
    "# Note: each index in the list corresponds to a sensor and its readings for temperature at different moment in time. The minimum number of readings are 28131 and the maximum is 65689\n",
    "lst = []\n",
    "num = 0\n",
    "for i in range(1, 55):\n",
    "  if i != 5 and i != 50 and i != 15 and i != 8 and i != 12:\n",
    "    lst.append(data.loc[data['moteid:int'] == float(i)])\n",
    "    lst[num].reset_index()\n",
    "    num = num + 1\n",
    "print('len(lst)', len(lst))"
   ]
  },
  {
   "cell_type": "code",
   "execution_count": 6,
   "metadata": {
    "executionInfo": {
     "elapsed": 1,
     "status": "ok",
     "timestamp": 1692308649130,
     "user": {
      "displayName": "Talha Ahmed",
      "userId": "17372384323512083426"
     },
     "user_tz": -300
    },
    "id": "nHwsHeb_-nad"
   },
   "outputs": [],
   "source": [
    "# Set up Global Root Directory for Data and some global variables\n",
    "\n",
    "ROOT = Path('/home/gcf/Desktop/Talha_Nehal Sproj/Tahir Sproj Stuff/SPROJ_ConvMC_Net/Sensor_Data/')\n",
    "os.makedirs(ROOT, exist_ok = True)\n",
    "\n",
    "# List of Q --> [0.1, 0.2, 0.3, 0.4, 0.5, 0.6, 0.7, 0.8, 0.9]\n",
    "# List of sigma --> [0.0, 1.0, 3.0, 5.0, 7.0, 10.0]\n",
    "\n",
    "q_list = [0.1, 0.3, 0.5, 0.7, 0.9]\n",
    "sigma_list = [0.0, 3.0, 7.0, 10.0]\n",
    "\n",
    "\n",
    "# The file structure is as follows\n",
    "\n",
    "# data/ <- overall dataset folder\n",
    "#     Q is point 1/ <- Sampling Rate\n",
    "#         Noise Variance 0/ <- Noise Variance\n",
    "#             groundtruth/ <- Groundtruth numpy arrays\n",
    "#               train/ <- numpy arrays for training\n",
    "#                 L_mat_MC_ground_train0.npy\n",
    "#                 L_mat_MC_ground_train1.npy\n",
    "#                 ...\n",
    "#               test/ <- numpy arrays for inference\n",
    "#                 L_mat_MC_ground_test0.npy\n",
    "#                 L_mat_MC_ground_test1.npy\n",
    "#             lowrank_matrix/ <- Arrays to perform MC on\n",
    "#                 train/ <- numpy arrays for training\n",
    "#                 L_mat_MC_lowrank_train0.npy\n",
    "#                 L_mat_MC_lowrank_train1.npy\n",
    "#                 ...\n",
    "#               test/ <- numpy arrays for inference\n",
    "#                 L_mat_MC_lowrank_test0.npy\n",
    "#                 L_mat_MC_lowrank_test1.npy\n",
    "#             prediction/ <- Will eventually be populated by our proposed ConvMC-Net predictions.\n",
    "#               train/ <- numpy arrays for prediction on train dataset\n",
    "#                 L_mat_MCinfer_train0.npy\n",
    "#                 L_mat_MCinfer_train1.npy\n",
    "#                 ...\n",
    "#               test/ <- numpy arrays for prediction on test dataset\n",
    "#                 L_mat_MCinfer_test0.npy\n",
    "#                 L_mat_MCinfer_test1.npy\n",
    "#         ...\n",
    "#         Noise Variance 10/\n",
    "#           ...\n",
    "#     ...\n",
    "#     Q is point 9/ <- Sampling Rate\n",
    "#         Noise Variance 10/ <- Noise Variance\n",
    "#             groundtruth/ <- Groundtruth numpy arrays\n",
    "#               train/ <- numpy arrays for training\n",
    "#                 L_mat_MC_ground_train0.npy\n",
    "#                 L_mat_MC_ground_train1.npy\n",
    "#                 ...\n",
    "#               test/ <- numpy arrays for inference\n",
    "#                 L_mat_MC_ground_test0.npy\n",
    "#                 L_mat_MC_ground_test1.npy\n",
    "#             lowrank_matrix/ <- Arrays to perform MC on\n",
    "#                 train/ <- numpy arrays for training\n",
    "#                 L_mat_MC_lowran_train0.npy\n",
    "#                 L_mat_MC_lowrank_train1.npy\n",
    "#                 ...\n",
    "#               test/ <- numpy arrays for inference\n",
    "#                 L_mat_MC_lowrank_test0.npy\n",
    "#                 L_mat_MC_lowrank_test1.npy\n",
    "#             prediction/ <- Will eventually be populated by our proposed ConvMC-Net predictions.\n",
    "#               train/ <- numpy arrays for prediction on train dataset\n",
    "#                 L_mat_MCinfer_train0.npy\n",
    "#                 L_mat_MCinfer_train1.npy\n",
    "#                 ...\n",
    "#               test/ <- numpy arrays for prediction on test dataset\n",
    "#                 L_mat_MCinfer_test0.npy\n",
    "#                 L_mat_MCinfer_test1.npy"
   ]
  },
  {
   "cell_type": "code",
   "execution_count": 7,
   "metadata": {
    "executionInfo": {
     "elapsed": 1,
     "status": "ok",
     "timestamp": 1692308652346,
     "user": {
      "displayName": "Talha Ahmed",
      "userId": "17372384323512083426"
     },
     "user_tz": -300
    },
    "id": "VQgK0cnHJ7Tz"
   },
   "outputs": [],
   "source": [
    "# Generating various types of data with varying sampling rate (Q) and noise (sigma)\n",
    "\n",
    "# We will use the list made above to intialize a numpy array of zeros of shape (49, 60) i.e. we are interested in 60 readings for each sensor.\n",
    "\n",
    "# Each array will have 49 sensors and their 60 readings. To ensure we account the same time, we will take a certain index range for that array. That array will have 49 sensors and their 60 readings each\n",
    "# sensor took the readings at the same time. The index range is chosen such that its present in all of the sensors list part.\n",
    "\n",
    "# We will have 468 such numpy arrays out of which 400 will be used for training and 68 for testing. Therefore the training data will represent 400 low rank matrices of overall shape (400, 49, 60), and for\n",
    "# test (68, 49, 60). Depending on Q and sigma, we will appropriately remove Q% of entries and add sigma noise to the training/test data. To ensure reproducibility we will set a random seed.\n",
    "\n",
    "# Set a random seed for reproducibility\n",
    "np.random.seed(42)\n",
    "\n",
    "# Defining a function 'sample_data' which takes an array, a sampling rate q (between 0 and 1) and randomly maps q% of entries to 0 and rest remain unchanged\n",
    "\n",
    "def sample_data(arr, q):\n",
    "\n",
    "  # Calculate the number of elements to set to 0 (40% of total elements)\n",
    "  total_elements = arr.size\n",
    "  num_zero_entries = int(q * total_elements)\n",
    "\n",
    "  # Create an array with 40% 0s and 60% 1s\n",
    "  mask_array = np.concatenate((np.zeros(num_zero_entries), np.ones(total_elements - num_zero_entries)))\n",
    "  np.random.shuffle(mask_array)\n",
    "  mask_array = mask_array.reshape(arr.shape)\n",
    "\n",
    "  # Element-wise multiplication to simulate missing entries\n",
    "  result_array = np.multiply(arr, mask_array)\n",
    "\n",
    "  return result_array\n",
    "\n",
    "# Defining a q, sigma manipulates the data accordingly and returns the train and test counterparts\n",
    "\n",
    "def get_train_and_test_data(q, sigma):\n",
    "\n",
    "  # Initalize data batch - groundtruth\n",
    "  arr = np.zeros((468, 49, 60), dtype = float)\n",
    "  # Initialize noise/sampled batch - lowrank\n",
    "  lowrank_arr = np.zeros((468, 49, 60), dtype = float)\n",
    "  for _, i in enumerate(range(0, 468)):\n",
    "    for j in range(0, 49):\n",
    "      arr[i, j, :] = lst[j]['temperature:real'].iloc[((60 * i)):(60 + (60 * i))].to_numpy().reshape(1, 60)\n",
    "      lowrank_arr[i, j, :] = lst[j]['temperature:real'].iloc[((60 * i)):(60 + (60 * i))].to_numpy().reshape(1, 60)\n",
    "    lowrank_arr = lowrank_arr + np.random.normal(loc = 0.0, scale = float(sigma), size = arr.shape)\n",
    "\n",
    "  # Now randomly set q% of data to 0, rest remain unchanged. Use the helper function 'sample_data'\n",
    "  sampled_arr = sample_data(lowrank_arr, q)\n",
    "\n",
    "  # Randomly select 400 for training data and 68 for testing data\n",
    "  chosen_indices = np.random.choice(468, size = 400, replace = False)\n",
    "  remaining_indices = np.setdiff1d(np.arange(468), chosen_indices)\n",
    "\n",
    "  # Create train and test split for groundtruth and lowrank matrices\n",
    "  lowrank_train_arr = sampled_arr[chosen_indices]\n",
    "  lowrank_test_arr = sampled_arr[remaining_indices]\n",
    "\n",
    "  groundtruth_train_arr = arr[chosen_indices]\n",
    "  groundtruth_test_arr = arr[remaining_indices]\n",
    "\n",
    "  # Return train and test low rank matrices along with groundtruth train and test matrices\n",
    "  return groundtruth_train_arr, groundtruth_test_arr, lowrank_train_arr, lowrank_test_arr\n",
    "\n",
    "# Defining a function which makes the respective directories corresponding to the hyperparameters q and sigma.\n",
    "def make_dir(q, sigma, ground_or_pred):\n",
    "\n",
    "  # Make directories according to the structure above\n",
    "  q_dir = (ROOT / f'Q is {q * 100}%')\n",
    "  os.makedirs(q_dir, exist_ok = True)\n",
    "\n",
    "  noise_dir = (q_dir / f'Noise Variance {sigma}')\n",
    "  os.makedirs(noise_dir, exist_ok = True)\n",
    "\n",
    "  ground_or_pred_dir = (noise_dir / ground_or_pred)\n",
    "  os.makedirs(ground_or_pred_dir, exist_ok = True)\n",
    "\n",
    "  lowrank_dir = (noise_dir / 'lowrank')\n",
    "  os.makedirs(ground_or_pred_dir, exist_ok = True)\n",
    "\n",
    "  ground_train_dir = (ground_or_pred_dir / 'train')\n",
    "  os.makedirs(ground_train_dir, exist_ok = True)\n",
    "\n",
    "  ground_test_dir = (ground_or_pred_dir / 'test')\n",
    "  os.makedirs(ground_test_dir, exist_ok = True)\n",
    "\n",
    "  low_train_dir = (lowrank_dir / 'train')\n",
    "  os.makedirs(low_train_dir, exist_ok = True)\n",
    "\n",
    "  low_test_dir = (lowrank_dir / 'test')\n",
    "  os.makedirs(low_test_dir, exist_ok = True)\n",
    "\n",
    "\n",
    "  # Return train and test directories of groundtruth and lowrank as thats only needed\n",
    "  return ground_train_dir, ground_test_dir, low_train_dir, low_test_dir\n",
    "\n",
    "# Defining a function which takes train and test arrays and approriately stores them in their respective directories\n",
    "def save_data(q, sigma):\n",
    "  # Get data\n",
    "  groundtruth_train_arr, groundtruth_test_arr, lowrank_train_arr, lowrank_test_arr = get_train_and_test_data(q, sigma)\n",
    "\n",
    "  # Get train and test dir (rest are automatically made)\n",
    "  ground_train_dir, ground_test_dir, low_train_dir, low_test_dir = make_dir(q, sigma, 'groundtruth')\n",
    "\n",
    "  # Now for each of matrix in test and train array each of shape (49, 60) save in the respective directories\n",
    "  for i in range(groundtruth_train_arr.shape[0]):\n",
    "    np.save(str(low_train_dir) + '/L_mat_MC_train' + str(i) + '.npy', lowrank_train_arr[i])\n",
    "    np.save(str(ground_train_dir) + '/ground_mat_MC_train' + str(i) + '.npy', groundtruth_train_arr[i])\n",
    "\n",
    "  for i in range(groundtruth_test_arr.shape[0]):\n",
    "    np.save(str(low_test_dir) + '/L_mat_MC_test' + str(i) + '.npy', lowrank_test_arr[i])\n",
    "    np.save(str(ground_test_dir) + '/ground_mat_MC_test' + str(i) + '.npy', groundtruth_test_arr[i])"
   ]
  },
  {
   "cell_type": "code",
   "execution_count": 9,
   "metadata": {
    "colab": {
     "base_uri": "https://localhost:8080/"
    },
    "executionInfo": {
     "elapsed": 1235720,
     "status": "ok",
     "timestamp": 1692309889972,
     "user": {
      "displayName": "Talha Ahmed",
      "userId": "17372384323512083426"
     },
     "user_tz": -300
    },
    "id": "3QawuXskS4Vl",
    "outputId": "6e37d8c1-8795-4bab-bb9c-2c11963f6b33"
   },
   "outputs": [
    {
     "name": "stdout",
     "output_type": "stream",
     "text": [
      "Saving Data for Sampling Rate: 10.0% and Noise Variance: 0.0\n",
      "Saving Data for Sampling Rate: 10.0% and Noise Variance: 3.0\n",
      "Saving Data for Sampling Rate: 10.0% and Noise Variance: 7.0\n",
      "Saving Data for Sampling Rate: 10.0% and Noise Variance: 10.0\n",
      "Saving Data for Sampling Rate: 30.0% and Noise Variance: 0.0\n",
      "Saving Data for Sampling Rate: 30.0% and Noise Variance: 3.0\n",
      "Saving Data for Sampling Rate: 30.0% and Noise Variance: 7.0\n",
      "Saving Data for Sampling Rate: 30.0% and Noise Variance: 10.0\n",
      "Saving Data for Sampling Rate: 50.0% and Noise Variance: 0.0\n",
      "Saving Data for Sampling Rate: 50.0% and Noise Variance: 3.0\n",
      "Saving Data for Sampling Rate: 50.0% and Noise Variance: 7.0\n",
      "Saving Data for Sampling Rate: 50.0% and Noise Variance: 10.0\n",
      "Saving Data for Sampling Rate: 70.0% and Noise Variance: 0.0\n",
      "Saving Data for Sampling Rate: 70.0% and Noise Variance: 3.0\n",
      "Saving Data for Sampling Rate: 70.0% and Noise Variance: 7.0\n",
      "Saving Data for Sampling Rate: 70.0% and Noise Variance: 10.0\n",
      "Saving Data for Sampling Rate: 90.0% and Noise Variance: 0.0\n",
      "Saving Data for Sampling Rate: 90.0% and Noise Variance: 3.0\n",
      "Saving Data for Sampling Rate: 90.0% and Noise Variance: 7.0\n",
      "Saving Data for Sampling Rate: 90.0% and Noise Variance: 10.0\n"
     ]
    }
   ],
   "source": [
    "# Getting Data for Each parameter\n",
    "\n",
    "for q in q_list:\n",
    "  for sigma in sigma_list:\n",
    "    print(f'Saving Data for Sampling Rate: {q * 100}% and Noise Variance: {sigma}')\n",
    "    save_data(q, sigma)"
   ]
  },
  {
   "cell_type": "code",
   "execution_count": 10,
   "metadata": {
    "colab": {
     "base_uri": "https://localhost:8080/"
    },
    "executionInfo": {
     "elapsed": 16130,
     "status": "ok",
     "timestamp": 1692309906085,
     "user": {
      "displayName": "Talha Ahmed",
      "userId": "17372384323512083426"
     },
     "user_tz": -300
    },
    "id": "CgaTQcNFQxol",
    "outputId": "4e070e02-92a8-4760-e2bc-bb08ffaaa259"
   },
   "outputs": [
    {
     "name": "stdout",
     "output_type": "stream",
     "text": [
      "Number of files in the directory: /home/gcf/Desktop/Talha_Nehal Sproj/Tahir Sproj Stuff/SPROJ_ConvMC_Net/Sensor_Data/Q is 10.0%/Noise Variance 0.0/groundtruth/train are 400\n",
      "Number of files in the directory: /home/gcf/Desktop/Talha_Nehal Sproj/Tahir Sproj Stuff/SPROJ_ConvMC_Net/Sensor_Data/Q is 10.0%/Noise Variance 0.0/lowrank/train are 400\n",
      "Number of files in the directory: /home/gcf/Desktop/Talha_Nehal Sproj/Tahir Sproj Stuff/SPROJ_ConvMC_Net/Sensor_Data/Q is 10.0%/Noise Variance 0.0/groundtruth/test are 68\n",
      "Number of files in the directory: /home/gcf/Desktop/Talha_Nehal Sproj/Tahir Sproj Stuff/SPROJ_ConvMC_Net/Sensor_Data/Q is 10.0%/Noise Variance 0.0/lowrank/test are 68\n",
      "Number of files in the directory: /home/gcf/Desktop/Talha_Nehal Sproj/Tahir Sproj Stuff/SPROJ_ConvMC_Net/Sensor_Data/Q is 10.0%/Noise Variance 3.0/groundtruth/train are 400\n",
      "Number of files in the directory: /home/gcf/Desktop/Talha_Nehal Sproj/Tahir Sproj Stuff/SPROJ_ConvMC_Net/Sensor_Data/Q is 10.0%/Noise Variance 3.0/lowrank/train are 400\n",
      "Number of files in the directory: /home/gcf/Desktop/Talha_Nehal Sproj/Tahir Sproj Stuff/SPROJ_ConvMC_Net/Sensor_Data/Q is 10.0%/Noise Variance 3.0/groundtruth/test are 68\n",
      "Number of files in the directory: /home/gcf/Desktop/Talha_Nehal Sproj/Tahir Sproj Stuff/SPROJ_ConvMC_Net/Sensor_Data/Q is 10.0%/Noise Variance 3.0/lowrank/test are 68\n",
      "Number of files in the directory: /home/gcf/Desktop/Talha_Nehal Sproj/Tahir Sproj Stuff/SPROJ_ConvMC_Net/Sensor_Data/Q is 10.0%/Noise Variance 7.0/groundtruth/train are 400\n",
      "Number of files in the directory: /home/gcf/Desktop/Talha_Nehal Sproj/Tahir Sproj Stuff/SPROJ_ConvMC_Net/Sensor_Data/Q is 10.0%/Noise Variance 7.0/lowrank/train are 400\n",
      "Number of files in the directory: /home/gcf/Desktop/Talha_Nehal Sproj/Tahir Sproj Stuff/SPROJ_ConvMC_Net/Sensor_Data/Q is 10.0%/Noise Variance 7.0/groundtruth/test are 68\n",
      "Number of files in the directory: /home/gcf/Desktop/Talha_Nehal Sproj/Tahir Sproj Stuff/SPROJ_ConvMC_Net/Sensor_Data/Q is 10.0%/Noise Variance 7.0/lowrank/test are 68\n",
      "Number of files in the directory: /home/gcf/Desktop/Talha_Nehal Sproj/Tahir Sproj Stuff/SPROJ_ConvMC_Net/Sensor_Data/Q is 10.0%/Noise Variance 10.0/groundtruth/train are 400\n",
      "Number of files in the directory: /home/gcf/Desktop/Talha_Nehal Sproj/Tahir Sproj Stuff/SPROJ_ConvMC_Net/Sensor_Data/Q is 10.0%/Noise Variance 10.0/lowrank/train are 400\n",
      "Number of files in the directory: /home/gcf/Desktop/Talha_Nehal Sproj/Tahir Sproj Stuff/SPROJ_ConvMC_Net/Sensor_Data/Q is 10.0%/Noise Variance 10.0/groundtruth/test are 68\n",
      "Number of files in the directory: /home/gcf/Desktop/Talha_Nehal Sproj/Tahir Sproj Stuff/SPROJ_ConvMC_Net/Sensor_Data/Q is 10.0%/Noise Variance 10.0/lowrank/test are 68\n",
      "Number of files in the directory: /home/gcf/Desktop/Talha_Nehal Sproj/Tahir Sproj Stuff/SPROJ_ConvMC_Net/Sensor_Data/Q is 30.0%/Noise Variance 0.0/groundtruth/train are 400\n",
      "Number of files in the directory: /home/gcf/Desktop/Talha_Nehal Sproj/Tahir Sproj Stuff/SPROJ_ConvMC_Net/Sensor_Data/Q is 30.0%/Noise Variance 0.0/lowrank/train are 400\n",
      "Number of files in the directory: /home/gcf/Desktop/Talha_Nehal Sproj/Tahir Sproj Stuff/SPROJ_ConvMC_Net/Sensor_Data/Q is 30.0%/Noise Variance 0.0/groundtruth/test are 68\n",
      "Number of files in the directory: /home/gcf/Desktop/Talha_Nehal Sproj/Tahir Sproj Stuff/SPROJ_ConvMC_Net/Sensor_Data/Q is 30.0%/Noise Variance 0.0/lowrank/test are 68\n",
      "Number of files in the directory: /home/gcf/Desktop/Talha_Nehal Sproj/Tahir Sproj Stuff/SPROJ_ConvMC_Net/Sensor_Data/Q is 30.0%/Noise Variance 3.0/groundtruth/train are 400\n",
      "Number of files in the directory: /home/gcf/Desktop/Talha_Nehal Sproj/Tahir Sproj Stuff/SPROJ_ConvMC_Net/Sensor_Data/Q is 30.0%/Noise Variance 3.0/lowrank/train are 400\n",
      "Number of files in the directory: /home/gcf/Desktop/Talha_Nehal Sproj/Tahir Sproj Stuff/SPROJ_ConvMC_Net/Sensor_Data/Q is 30.0%/Noise Variance 3.0/groundtruth/test are 68\n",
      "Number of files in the directory: /home/gcf/Desktop/Talha_Nehal Sproj/Tahir Sproj Stuff/SPROJ_ConvMC_Net/Sensor_Data/Q is 30.0%/Noise Variance 3.0/lowrank/test are 68\n",
      "Number of files in the directory: /home/gcf/Desktop/Talha_Nehal Sproj/Tahir Sproj Stuff/SPROJ_ConvMC_Net/Sensor_Data/Q is 30.0%/Noise Variance 7.0/groundtruth/train are 400\n",
      "Number of files in the directory: /home/gcf/Desktop/Talha_Nehal Sproj/Tahir Sproj Stuff/SPROJ_ConvMC_Net/Sensor_Data/Q is 30.0%/Noise Variance 7.0/lowrank/train are 400\n",
      "Number of files in the directory: /home/gcf/Desktop/Talha_Nehal Sproj/Tahir Sproj Stuff/SPROJ_ConvMC_Net/Sensor_Data/Q is 30.0%/Noise Variance 7.0/groundtruth/test are 68\n",
      "Number of files in the directory: /home/gcf/Desktop/Talha_Nehal Sproj/Tahir Sproj Stuff/SPROJ_ConvMC_Net/Sensor_Data/Q is 30.0%/Noise Variance 7.0/lowrank/test are 68\n",
      "Number of files in the directory: /home/gcf/Desktop/Talha_Nehal Sproj/Tahir Sproj Stuff/SPROJ_ConvMC_Net/Sensor_Data/Q is 30.0%/Noise Variance 10.0/groundtruth/train are 400\n",
      "Number of files in the directory: /home/gcf/Desktop/Talha_Nehal Sproj/Tahir Sproj Stuff/SPROJ_ConvMC_Net/Sensor_Data/Q is 30.0%/Noise Variance 10.0/lowrank/train are 400\n",
      "Number of files in the directory: /home/gcf/Desktop/Talha_Nehal Sproj/Tahir Sproj Stuff/SPROJ_ConvMC_Net/Sensor_Data/Q is 30.0%/Noise Variance 10.0/groundtruth/test are 68\n",
      "Number of files in the directory: /home/gcf/Desktop/Talha_Nehal Sproj/Tahir Sproj Stuff/SPROJ_ConvMC_Net/Sensor_Data/Q is 30.0%/Noise Variance 10.0/lowrank/test are 68\n",
      "Number of files in the directory: /home/gcf/Desktop/Talha_Nehal Sproj/Tahir Sproj Stuff/SPROJ_ConvMC_Net/Sensor_Data/Q is 50.0%/Noise Variance 0.0/groundtruth/train are 400\n",
      "Number of files in the directory: /home/gcf/Desktop/Talha_Nehal Sproj/Tahir Sproj Stuff/SPROJ_ConvMC_Net/Sensor_Data/Q is 50.0%/Noise Variance 0.0/lowrank/train are 400\n",
      "Number of files in the directory: /home/gcf/Desktop/Talha_Nehal Sproj/Tahir Sproj Stuff/SPROJ_ConvMC_Net/Sensor_Data/Q is 50.0%/Noise Variance 0.0/groundtruth/test are 68\n",
      "Number of files in the directory: /home/gcf/Desktop/Talha_Nehal Sproj/Tahir Sproj Stuff/SPROJ_ConvMC_Net/Sensor_Data/Q is 50.0%/Noise Variance 0.0/lowrank/test are 68\n",
      "Number of files in the directory: /home/gcf/Desktop/Talha_Nehal Sproj/Tahir Sproj Stuff/SPROJ_ConvMC_Net/Sensor_Data/Q is 50.0%/Noise Variance 3.0/groundtruth/train are 400\n",
      "Number of files in the directory: /home/gcf/Desktop/Talha_Nehal Sproj/Tahir Sproj Stuff/SPROJ_ConvMC_Net/Sensor_Data/Q is 50.0%/Noise Variance 3.0/lowrank/train are 400\n",
      "Number of files in the directory: /home/gcf/Desktop/Talha_Nehal Sproj/Tahir Sproj Stuff/SPROJ_ConvMC_Net/Sensor_Data/Q is 50.0%/Noise Variance 3.0/groundtruth/test are 68\n",
      "Number of files in the directory: /home/gcf/Desktop/Talha_Nehal Sproj/Tahir Sproj Stuff/SPROJ_ConvMC_Net/Sensor_Data/Q is 50.0%/Noise Variance 3.0/lowrank/test are 68\n",
      "Number of files in the directory: /home/gcf/Desktop/Talha_Nehal Sproj/Tahir Sproj Stuff/SPROJ_ConvMC_Net/Sensor_Data/Q is 50.0%/Noise Variance 7.0/groundtruth/train are 400\n",
      "Number of files in the directory: /home/gcf/Desktop/Talha_Nehal Sproj/Tahir Sproj Stuff/SPROJ_ConvMC_Net/Sensor_Data/Q is 50.0%/Noise Variance 7.0/lowrank/train are 400\n",
      "Number of files in the directory: /home/gcf/Desktop/Talha_Nehal Sproj/Tahir Sproj Stuff/SPROJ_ConvMC_Net/Sensor_Data/Q is 50.0%/Noise Variance 7.0/groundtruth/test are 68\n",
      "Number of files in the directory: /home/gcf/Desktop/Talha_Nehal Sproj/Tahir Sproj Stuff/SPROJ_ConvMC_Net/Sensor_Data/Q is 50.0%/Noise Variance 7.0/lowrank/test are 68\n",
      "Number of files in the directory: /home/gcf/Desktop/Talha_Nehal Sproj/Tahir Sproj Stuff/SPROJ_ConvMC_Net/Sensor_Data/Q is 50.0%/Noise Variance 10.0/groundtruth/train are 400\n",
      "Number of files in the directory: /home/gcf/Desktop/Talha_Nehal Sproj/Tahir Sproj Stuff/SPROJ_ConvMC_Net/Sensor_Data/Q is 50.0%/Noise Variance 10.0/lowrank/train are 400\n",
      "Number of files in the directory: /home/gcf/Desktop/Talha_Nehal Sproj/Tahir Sproj Stuff/SPROJ_ConvMC_Net/Sensor_Data/Q is 50.0%/Noise Variance 10.0/groundtruth/test are 68\n",
      "Number of files in the directory: /home/gcf/Desktop/Talha_Nehal Sproj/Tahir Sproj Stuff/SPROJ_ConvMC_Net/Sensor_Data/Q is 50.0%/Noise Variance 10.0/lowrank/test are 68\n",
      "Number of files in the directory: /home/gcf/Desktop/Talha_Nehal Sproj/Tahir Sproj Stuff/SPROJ_ConvMC_Net/Sensor_Data/Q is 70.0%/Noise Variance 0.0/groundtruth/train are 400\n",
      "Number of files in the directory: /home/gcf/Desktop/Talha_Nehal Sproj/Tahir Sproj Stuff/SPROJ_ConvMC_Net/Sensor_Data/Q is 70.0%/Noise Variance 0.0/lowrank/train are 400\n",
      "Number of files in the directory: /home/gcf/Desktop/Talha_Nehal Sproj/Tahir Sproj Stuff/SPROJ_ConvMC_Net/Sensor_Data/Q is 70.0%/Noise Variance 0.0/groundtruth/test are 68\n",
      "Number of files in the directory: /home/gcf/Desktop/Talha_Nehal Sproj/Tahir Sproj Stuff/SPROJ_ConvMC_Net/Sensor_Data/Q is 70.0%/Noise Variance 0.0/lowrank/test are 68\n",
      "Number of files in the directory: /home/gcf/Desktop/Talha_Nehal Sproj/Tahir Sproj Stuff/SPROJ_ConvMC_Net/Sensor_Data/Q is 70.0%/Noise Variance 3.0/groundtruth/train are 400\n",
      "Number of files in the directory: /home/gcf/Desktop/Talha_Nehal Sproj/Tahir Sproj Stuff/SPROJ_ConvMC_Net/Sensor_Data/Q is 70.0%/Noise Variance 3.0/lowrank/train are 400\n",
      "Number of files in the directory: /home/gcf/Desktop/Talha_Nehal Sproj/Tahir Sproj Stuff/SPROJ_ConvMC_Net/Sensor_Data/Q is 70.0%/Noise Variance 3.0/groundtruth/test are 68\n",
      "Number of files in the directory: /home/gcf/Desktop/Talha_Nehal Sproj/Tahir Sproj Stuff/SPROJ_ConvMC_Net/Sensor_Data/Q is 70.0%/Noise Variance 3.0/lowrank/test are 68\n",
      "Number of files in the directory: /home/gcf/Desktop/Talha_Nehal Sproj/Tahir Sproj Stuff/SPROJ_ConvMC_Net/Sensor_Data/Q is 70.0%/Noise Variance 7.0/groundtruth/train are 400\n",
      "Number of files in the directory: /home/gcf/Desktop/Talha_Nehal Sproj/Tahir Sproj Stuff/SPROJ_ConvMC_Net/Sensor_Data/Q is 70.0%/Noise Variance 7.0/lowrank/train are 400\n",
      "Number of files in the directory: /home/gcf/Desktop/Talha_Nehal Sproj/Tahir Sproj Stuff/SPROJ_ConvMC_Net/Sensor_Data/Q is 70.0%/Noise Variance 7.0/groundtruth/test are 68\n",
      "Number of files in the directory: /home/gcf/Desktop/Talha_Nehal Sproj/Tahir Sproj Stuff/SPROJ_ConvMC_Net/Sensor_Data/Q is 70.0%/Noise Variance 7.0/lowrank/test are 68\n",
      "Number of files in the directory: /home/gcf/Desktop/Talha_Nehal Sproj/Tahir Sproj Stuff/SPROJ_ConvMC_Net/Sensor_Data/Q is 70.0%/Noise Variance 10.0/groundtruth/train are 400\n",
      "Number of files in the directory: /home/gcf/Desktop/Talha_Nehal Sproj/Tahir Sproj Stuff/SPROJ_ConvMC_Net/Sensor_Data/Q is 70.0%/Noise Variance 10.0/lowrank/train are 400\n",
      "Number of files in the directory: /home/gcf/Desktop/Talha_Nehal Sproj/Tahir Sproj Stuff/SPROJ_ConvMC_Net/Sensor_Data/Q is 70.0%/Noise Variance 10.0/groundtruth/test are 68\n",
      "Number of files in the directory: /home/gcf/Desktop/Talha_Nehal Sproj/Tahir Sproj Stuff/SPROJ_ConvMC_Net/Sensor_Data/Q is 70.0%/Noise Variance 10.0/lowrank/test are 68\n",
      "Number of files in the directory: /home/gcf/Desktop/Talha_Nehal Sproj/Tahir Sproj Stuff/SPROJ_ConvMC_Net/Sensor_Data/Q is 90.0%/Noise Variance 0.0/groundtruth/train are 400\n",
      "Number of files in the directory: /home/gcf/Desktop/Talha_Nehal Sproj/Tahir Sproj Stuff/SPROJ_ConvMC_Net/Sensor_Data/Q is 90.0%/Noise Variance 0.0/lowrank/train are 400\n",
      "Number of files in the directory: /home/gcf/Desktop/Talha_Nehal Sproj/Tahir Sproj Stuff/SPROJ_ConvMC_Net/Sensor_Data/Q is 90.0%/Noise Variance 0.0/groundtruth/test are 68\n",
      "Number of files in the directory: /home/gcf/Desktop/Talha_Nehal Sproj/Tahir Sproj Stuff/SPROJ_ConvMC_Net/Sensor_Data/Q is 90.0%/Noise Variance 0.0/lowrank/test are 68\n",
      "Number of files in the directory: /home/gcf/Desktop/Talha_Nehal Sproj/Tahir Sproj Stuff/SPROJ_ConvMC_Net/Sensor_Data/Q is 90.0%/Noise Variance 3.0/groundtruth/train are 400\n",
      "Number of files in the directory: /home/gcf/Desktop/Talha_Nehal Sproj/Tahir Sproj Stuff/SPROJ_ConvMC_Net/Sensor_Data/Q is 90.0%/Noise Variance 3.0/lowrank/train are 400\n",
      "Number of files in the directory: /home/gcf/Desktop/Talha_Nehal Sproj/Tahir Sproj Stuff/SPROJ_ConvMC_Net/Sensor_Data/Q is 90.0%/Noise Variance 3.0/groundtruth/test are 68\n",
      "Number of files in the directory: /home/gcf/Desktop/Talha_Nehal Sproj/Tahir Sproj Stuff/SPROJ_ConvMC_Net/Sensor_Data/Q is 90.0%/Noise Variance 3.0/lowrank/test are 68\n",
      "Number of files in the directory: /home/gcf/Desktop/Talha_Nehal Sproj/Tahir Sproj Stuff/SPROJ_ConvMC_Net/Sensor_Data/Q is 90.0%/Noise Variance 7.0/groundtruth/train are 400\n",
      "Number of files in the directory: /home/gcf/Desktop/Talha_Nehal Sproj/Tahir Sproj Stuff/SPROJ_ConvMC_Net/Sensor_Data/Q is 90.0%/Noise Variance 7.0/lowrank/train are 400\n",
      "Number of files in the directory: /home/gcf/Desktop/Talha_Nehal Sproj/Tahir Sproj Stuff/SPROJ_ConvMC_Net/Sensor_Data/Q is 90.0%/Noise Variance 7.0/groundtruth/test are 68\n",
      "Number of files in the directory: /home/gcf/Desktop/Talha_Nehal Sproj/Tahir Sproj Stuff/SPROJ_ConvMC_Net/Sensor_Data/Q is 90.0%/Noise Variance 7.0/lowrank/test are 68\n",
      "Number of files in the directory: /home/gcf/Desktop/Talha_Nehal Sproj/Tahir Sproj Stuff/SPROJ_ConvMC_Net/Sensor_Data/Q is 90.0%/Noise Variance 10.0/groundtruth/train are 400\n",
      "Number of files in the directory: /home/gcf/Desktop/Talha_Nehal Sproj/Tahir Sproj Stuff/SPROJ_ConvMC_Net/Sensor_Data/Q is 90.0%/Noise Variance 10.0/lowrank/train are 400\n",
      "Number of files in the directory: /home/gcf/Desktop/Talha_Nehal Sproj/Tahir Sproj Stuff/SPROJ_ConvMC_Net/Sensor_Data/Q is 90.0%/Noise Variance 10.0/groundtruth/test are 68\n",
      "Number of files in the directory: /home/gcf/Desktop/Talha_Nehal Sproj/Tahir Sproj Stuff/SPROJ_ConvMC_Net/Sensor_Data/Q is 90.0%/Noise Variance 10.0/lowrank/test are 68\n"
     ]
    }
   ],
   "source": [
    "# Checking if Data is stored and sturctured correctly\n",
    "\n",
    "# Your directory path\n",
    "for q in q_list:\n",
    "  for sigma in sigma_list:\n",
    "    for split in ['train', 'test']:\n",
    "      ground_dir_path = '/home/gcf/Desktop/Talha_Nehal Sproj/Tahir Sproj Stuff/SPROJ_ConvMC_Net/Sensor_Data/' + f'Q is {q * 100}%/' + f'Noise Variance {sigma}/groundtruth/' + split\n",
    "      lowrank_path = '/home/gcf/Desktop/Talha_Nehal Sproj/Tahir Sproj Stuff/SPROJ_ConvMC_Net/Sensor_Data/' + f'Q is {q * 100}%/' + f'Noise Variance {sigma}/lowrank/' + split\n",
    "      # List all files and directories in the directory\n",
    "      all_ground_files = os.listdir(ground_dir_path)\n",
    "      all_lowrank_files = os.listdir(lowrank_path)\n",
    "      # Count the number of files (excluding directories)\n",
    "      num_ground_files = len([file for file in all_ground_files if os.path.isfile(os.path.join(ground_dir_path, file))])\n",
    "      num_lowrank_files = len([file for file in all_lowrank_files if os.path.isfile(os.path.join(lowrank_path, file))])\n",
    "      print(f\"Number of files in the directory: {ground_dir_path} are {num_ground_files}\")\n",
    "      print(f\"Number of files in the directory: {lowrank_path} are {num_lowrank_files}\")\n"
   ]
  },
  {
   "cell_type": "code",
   "execution_count": 11,
   "metadata": {
    "colab": {
     "base_uri": "https://localhost:8080/",
     "height": 36
    },
    "executionInfo": {
     "elapsed": 132118,
     "status": "ok",
     "timestamp": 1692090767914,
     "user": {
      "displayName": "Talha Ahmed",
      "userId": "17372384323512083426"
     },
     "user_tz": -300
    },
    "id": "0AQeaV2YakRT",
    "outputId": "dd656bd1-8077-4d89-fc1b-5cc7d29327cb"
   },
   "outputs": [
    {
     "data": {
      "text/plain": [
       "'/home/gcf/Desktop/Talha_Nehal Sproj/Tahir Sproj Stuff/SPROJ_ConvMC_Net/Sensor_Data_Zip.zip'"
      ]
     },
     "execution_count": 11,
     "metadata": {},
     "output_type": "execute_result"
    }
   ],
   "source": [
    "# Perfect!!\n",
    "\n",
    "# Make the data as a zip file\n",
    "\n",
    "# Specify the source folder and its contents to be zipped\n",
    "source_folder = '/home/gcf/Desktop/Talha_Nehal Sproj/Tahir Sproj Stuff/SPROJ_ConvMC_Net/Sensor_Data/'\n",
    "\n",
    "# Specify the destination directory for the zip file\n",
    "destination_directory = '/home/gcf/Desktop/Talha_Nehal Sproj/Tahir Sproj Stuff/SPROJ_ConvMC_Net/'\n",
    "\n",
    "# Specify the name of the zip file\n",
    "zip_filename = 'Sensor_Data_Zip'\n",
    "\n",
    "# Zip the folder\n",
    "shutil.make_archive(\n",
    "    base_name=os.path.join(destination_directory, zip_filename),\n",
    "    format = 'zip',\n",
    "    root_dir = source_folder\n",
    ")\n"
   ]
  },
  {
   "cell_type": "code",
   "execution_count": null,
   "metadata": {
    "id": "4MNy6Oulb56A"
   },
   "outputs": [],
   "source": []
  }
 ],
 "metadata": {
  "colab": {
   "provenance": []
  },
  "gpuClass": "standard",
  "kernelspec": {
   "display_name": "Python 3",
   "language": "python",
   "name": "python3"
  },
  "language_info": {
   "codemirror_mode": {
    "name": "ipython",
    "version": 3
   },
   "file_extension": ".py",
   "mimetype": "text/x-python",
   "name": "python",
   "nbconvert_exporter": "python",
   "pygments_lexer": "ipython3",
   "version": "3.6.9"
  }
 },
 "nbformat": 4,
 "nbformat_minor": 1
}
